{
 "cells": [
  {
   "cell_type": "code",
   "execution_count": 1,
   "id": "05c272cd",
   "metadata": {},
   "outputs": [],
   "source": [
    "# импорт библиотек\n",
    "import pandas as pd\n",
    "import os\n",
    "import requests\n",
    "from requests.exceptions import ConnectionError\n",
    "from time import sleep\n",
    "import json\n",
    "import ydata_profiling as yp\n",
    "import sqlalchemy\n",
    "import numpy as np \n",
    "import matplotlib.pyplot as plt\n",
    "import matplotlib_inline"
   ]
  },
  {
   "cell_type": "code",
   "execution_count": 3,
   "id": "14a2b862",
   "metadata": {},
   "outputs": [],
   "source": [
    "# Входные данные\n",
    "token = os.environ['token']\n",
    "goals = os.environ['goals']\n",
    "clientLogin = os.environ['clientLogin']\n",
    "ReportsURL = os.environ['ReportsURL']"
   ]
  },
  {
   "cell_type": "code",
   "execution_count": 4,
   "id": "acf17c9c",
   "metadata": {},
   "outputs": [],
   "source": [
    "# HTTP-заголовки запроса, из справки api яндекс директа\n",
    "headers = {\n",
    "           # OAuth-токен. Использование слова Bearer обязательно\n",
    "           \"Authorization\": \"Bearer \" + token,\n",
    "           # Логин клиента рекламного агентства\n",
    "           \"Client-Login\": clientLogin,\n",
    "           # Язык ответных сообщений\n",
    "           \"Accept-Language\": \"ru\",\n",
    "           # Режим формирования отчета\n",
    "           \"processingMode\": \"auto\",\n",
    "           # Формат денежных значений в отчете\n",
    "           \"returnMoneyInMicros\": \"false\",\n",
    "           # Не выводить в отчете строку с названием отчета и диапазоном дат\n",
    "           \"skipReportHeader\": \"true\",\n",
    "           # Не выводить в отчете строку с названиями полей\n",
    "           # \"skipColumnHeader\": \"true\",\n",
    "           # Не выводить в отчете строку с количеством строк статистики\n",
    "           \"skipReportSummary\": \"true\"\n",
    "           }"
   ]
  },
  {
   "cell_type": "code",
   "execution_count": 18,
   "id": "8c67ff67",
   "metadata": {},
   "outputs": [],
   "source": [
    "# Тело запроса, из справки api яндекс директа\n",
    "body = {\n",
    "    \"params\": {\n",
    "        \"SelectionCriteria\": {\n",
    "            \"DateFrom\": \"2024-03-01\",\n",
    "            \"DateTo\": \"2025-03-31\"\n",
    "        },\n",
    "        \"FieldNames\": [\n",
    "            \"Date\",            \n",
    "            \"TargetingLocationName\",\n",
    "            \"Impressions\",\n",
    "            \"Clicks\",\n",
    "            \"Cost\",\n",
    "            \"Conversions\"\n",
    "        ],\n",
    "        \"Goals\": goals,\n",
    "        \"AttributionModels\": [\"AUTO\"],\n",
    "        \"ReportName\": \"regions_stat\",\n",
    "        \"ReportType\": \"CUSTOM_REPORT\",\n",
    "        \"DateRangeType\": \"CUSTOM_DATE\",\n",
    "        \"Format\": \"TSV\",\n",
    "        \"IncludeVAT\": \"YES\",\n",
    "        \"Page\": {\"Limit\": 200000}\n",
    "    }\n",
    "}\n",
    "# Кодирование тела запроса в JSON\n",
    "body = json.dumps(body, indent=4)"
   ]
  },
  {
   "cell_type": "code",
   "execution_count": 19,
   "id": "ec77f5c5",
   "metadata": {},
   "outputs": [
    {
     "name": "stdout",
     "output_type": "stream",
     "text": [
      "Параметры запроса указаны неверно или достигнут лимит отчетов в очереди\n",
      "RequestId: 6014445452530612792\n"
     ]
    }
   ],
   "source": [
    "# Запуск цикла для выполнения запросов\n",
    "while True:\n",
    "    try:\n",
    "        req = requests.post(ReportsURL, body, headers=headers)\n",
    "        req.encoding = 'utf-8'\n",
    "        if req.status_code == 400:\n",
    "            print(\"Параметры запроса указаны неверно или достигнут лимит отчетов в очереди\")\n",
    "            print(\"RequestId: {}\".format(req.headers.get(\"RequestId\", False)))\n",
    "            break\n",
    "        elif req.status_code == 200:\n",
    "            print(\"Отчет создан успешно\")\n",
    "            print(\"RequestId: {}\".format(req.headers.get(\"RequestId\", False)))\n",
    "            response = req.text\n",
    "            break\n",
    "        elif req.status_code == 201:\n",
    "            print(\"Отчет успешно поставлен в очередь в режиме офлайн\")\n",
    "            retryIn = int(req.headers.get(\"retryIn\", 60))\n",
    "            print(\"Повторная отправка запроса через {} секунд\".format(retryIn))\n",
    "            print(\"RequestId: {}\".format(req.headers.get(\"RequestId\", False)))\n",
    "            sleep(retryIn)\n",
    "        elif req.status_code == 202:\n",
    "            print(\"Отчет формируется в режиме офлайн\")\n",
    "            retryIn = int(req.headers.get(\"retryIn\", 60))\n",
    "            print(\"Повторная отправка запроса через {} секунд\".format(retryIn))\n",
    "            print(\"RequestId:  {}\".format(req.headers.get(\"RequestId\", False)))\n",
    "            sleep(retryIn)\n",
    "        elif req.status_code == 500:\n",
    "            print(\"При формировании отчета произошла ошибка. Пожалуйста, попробуйте повторить запрос позднее\")\n",
    "            print(\"RequestId: {}\".format(req.headers.get(\"RequestId\", False)))\n",
    "            \n",
    "            break\n",
    "        elif req.status_code == 502:\n",
    "            print(\"Время формирования отчета превысило серверное ограничение.\")\n",
    "            print(\"Пожалуйста, попробуйте изменить параметры запроса - уменьшить период и количество запрашиваемых данных.\")\n",
    "            print(\"JSON-код запроса: {}\".format(body))\n",
    "            print(\"RequestId: {}\".format(req.headers.get(\"RequestId\", False)))\n",
    "            \n",
    "            break\n",
    "        else:\n",
    "            print(\"Произошла непредвиденная ошибка\")\n",
    "            print(\"RequestId:  {}\".format(req.headers.get(\"RequestId\", False)))\n",
    "            print(\"JSON-код запроса: {}\".format(body))\n",
    "            \n",
    "            break\n",
    "\n",
    "    # Обработка ошибки, если не удалось соединиться с сервером API Директа\n",
    "    except ConnectionError:        \n",
    "        print(\"Произошла ошибка соединения с сервером API\")        \n",
    "        break    "
   ]
  },
  {
   "cell_type": "code",
   "execution_count": null,
   "id": "ec987156",
   "metadata": {},
   "outputs": [],
   "source": [
    "response"
   ]
  },
  {
   "cell_type": "code",
   "execution_count": null,
   "id": "fdfc918b",
   "metadata": {},
   "outputs": [],
   "source": [
    "# Преобразование tsv-формата в json\n",
    "tsv_data = response\n",
    "\n",
    "# Разбиваем на строки\n",
    "lines = tsv_data.split('\\n')\n",
    "\n",
    "# Получаем заголовки\n",
    "headers = lines[0].split('\\t')\n",
    "\n",
    "result = []\n",
    "for line in lines[1:]:\n",
    "    if not line.strip():  # Пропускаем пустые строки\n",
    "        continue\n",
    "    \n",
    "    values = line.split('\\t')\n",
    "    \n",
    "    # Создаем словарь для каждой строки\n",
    "    row_dict = {}\n",
    "    for i, header in enumerate(headers):\n",
    "        value = values[i] if i < len(values) else None\n",
    "        \n",
    "        # Преобразуем типы данных\n",
    "        try:            \n",
    "            if header in ['Impressions', 'Clicks']:\n",
    "                value = int(value) if value != '--' else 0\n",
    "            elif header == 'Cost':\n",
    "                value = float(value.replace(',', '.')) if value != '--' else 0.0\n",
    "            elif header == 'Conversions_252790207_AUTO':\n",
    "                value = int(value.replace('--', '0')) if value != '--' else 0\n",
    "        except (ValueError, AttributeError):\n",
    "            value = values[i]  # Оставляем как есть, если преобразование не удалось\n",
    "        \n",
    "        row_dict[header] = value\n",
    "    \n",
    "    result.append(row_dict)\n",
    "\n",
    "# Конвертируем в JSON\n",
    "json_data = json.dumps(result, ensure_ascii=False, indent=2)\n",
    "print(json_data)"
   ]
  },
  {
   "cell_type": "code",
   "execution_count": null,
   "id": "342a3327",
   "metadata": {},
   "outputs": [],
   "source": [
    "# Создание датафрейма\n",
    "json_data = json.loads(json_data)\n",
    "df = pd.DataFrame(json_data)"
   ]
  },
  {
   "cell_type": "code",
   "execution_count": null,
   "id": "7cbaced7",
   "metadata": {},
   "outputs": [],
   "source": [
    "df"
   ]
  },
  {
   "cell_type": "code",
   "execution_count": null,
   "id": "ac426d56",
   "metadata": {},
   "outputs": [],
   "source": [
    "df.Date = df.Date.apply(pd.to_datetime, format='%Y-%m-%d').dt.date"
   ]
  },
  {
   "cell_type": "code",
   "execution_count": null,
   "id": "d49b13f6",
   "metadata": {},
   "outputs": [],
   "source": [
    "df.profile_report()"
   ]
  },
  {
   "cell_type": "code",
   "execution_count": null,
   "id": "5bb448b6",
   "metadata": {},
   "outputs": [],
   "source": [
    "#создаем подключение к базе Postgres на удаленном сервере\n",
    "\n",
    "HOST = os.environ['HOST']\n",
    "PORT = os.environ['PORT']\n",
    "DATABASE = os.environ['DATABASE']\n",
    "LOGIN = os.environ['LOGIN']\n",
    "PASSWORD = os.environ['PASSWORD']\n",
    "\n",
    "engine = sqlalchemy.create_engine(f'postgresql://{LOGIN}:{PASSWORD}@{HOST}:{PORT}/{DATABASE}')"
   ]
  },
  {
   "cell_type": "code",
   "execution_count": null,
   "id": "78af0844",
   "metadata": {},
   "outputs": [],
   "source": [
    "#загружаем датафрейм в базу данных\n",
    "\n",
    "table_name = 'marketing_metrics'\n",
    "schema_name = 'ormed'\n",
    "\n",
    "df.to_sql(con=engine, name = table_name, schema=schema_name, index=False, if_exists='replace')"
   ]
  }
 ],
 "metadata": {
  "kernelspec": {
   "display_name": ".venv",
   "language": "python",
   "name": "python3"
  },
  "language_info": {
   "codemirror_mode": {
    "name": "ipython",
    "version": 3
   },
   "file_extension": ".py",
   "mimetype": "text/x-python",
   "name": "python",
   "nbconvert_exporter": "python",
   "pygments_lexer": "ipython3",
   "version": "3.11.5"
  }
 },
 "nbformat": 4,
 "nbformat_minor": 5
}
